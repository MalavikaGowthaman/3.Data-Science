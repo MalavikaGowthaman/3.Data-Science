{
 "cells": [
  {
   "cell_type": "markdown",
   "id": "881991b6",
   "metadata": {},
   "source": [
    "# Statement\n",
    "\n",
    "Test whether the ssc_p of male and hsc_p of male have similarity?\n",
    "\n",
    "\n",
    "--> Null Hypothesis --> There is no similarity\n",
    "--> Alternate hypothesis --> There is similrity\n",
    "\n",
    "--> Hypothesis is to accept ot not accept the statement.\n",
    "\n",
    "--> Null hypothesis  --> if P < 0.05 --> Null hypothesis will get rejected\n",
    "\n",
    "\n",
    "# possible outcomes\n",
    "\n",
    "--> Reject Null and Accept Alternate hypo\n",
    "\n",
    "--> Accpet Null reject alternate hypo"
   ]
  },
  {
   "cell_type": "code",
   "execution_count": 2,
   "id": "cc281e57",
   "metadata": {},
   "outputs": [],
   "source": [
    "import pandas as pd\n",
    "dataset = pd.read_csv('placement.csv')\n",
    "dataset['salary'].fillna(0,inplace=True)\n"
   ]
  },
  {
   "cell_type": "code",
   "execution_count": 4,
   "id": "f35142e8",
   "metadata": {},
   "outputs": [
    {
     "data": {
      "text/plain": [
       "Ttest_relResult(statistic=0.6852881050898078, pvalue=0.49431164600731503)"
      ]
     },
     "execution_count": 4,
     "metadata": {},
     "output_type": "execute_result"
    }
   ],
   "source": [
    "# here the given stmt is based on similarity so t test\n",
    "# here its a same group for different condition -- so paried t test\n",
    "\n",
    "from scipy.stats import ttest_rel\n",
    "male = dataset[dataset['gender']=='M']['ssc_p']\n",
    "male_1 = dataset[dataset['gender']=='M']['hsc_p']\n",
    "ttest_rel(male,male_1)"
   ]
  },
  {
   "cell_type": "markdown",
   "id": "17b7d1b4",
   "metadata": {},
   "source": [
    "Here the p value is 49, so p<0.05 if false --> null hypo\n",
    "\n",
    "here 49 is higher than 5 so rejected that alternate hypo"
   ]
  }
 ],
 "metadata": {
  "kernelspec": {
   "display_name": "Python 3 (ipykernel)",
   "language": "python",
   "name": "python3"
  },
  "language_info": {
   "codemirror_mode": {
    "name": "ipython",
    "version": 3
   },
   "file_extension": ".py",
   "mimetype": "text/x-python",
   "name": "python",
   "nbconvert_exporter": "python",
   "pygments_lexer": "ipython3",
   "version": "3.7.1"
  }
 },
 "nbformat": 4,
 "nbformat_minor": 5
}
